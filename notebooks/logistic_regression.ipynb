{
 "cells": [
  {
   "cell_type": "code",
   "execution_count": null,
   "id": "9f0f8b15",
   "metadata": {
    "vscode": {
     "languageId": "plaintext"
    }
   },
   "outputs": [],
   "source": [
    "Iris DATASET FOR LOGISTIC REGRESSION !!!\n",
    "\n"
   ]
  }
 ],
 "metadata": {
  "language_info": {
   "name": "python"
  }
 },
 "nbformat": 4,
 "nbformat_minor": 5
}
